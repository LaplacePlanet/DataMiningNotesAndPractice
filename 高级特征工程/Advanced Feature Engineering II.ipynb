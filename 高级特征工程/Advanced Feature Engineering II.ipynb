{
 "cells": [
  {
   "cell_type": "markdown",
   "metadata": {},
   "source": [
    "以下是Coursera上的[How to Win a Data Science Competition: Learn from Top Kagglers](https://www.coursera.org/learn/competitive-data-science/home/week/3)课程笔记。"
   ]
  },
  {
   "cell_type": "markdown",
   "metadata": {},
   "source": [
    "# Statistics and distance based features\n",
    "该部分专注于此高级特征工程：计算由另一个分组的一个特征的各种统计数据和从给定点的邻域分析得到的特征。\n",
    ">  groupby and nearest neighbor methods"
   ]
  },
  {
   "cell_type": "markdown",
   "metadata": {},
   "source": [
    "#### 例子：这里有一些CTR任务的数据\n",
    "![ctr](img/statistic_ctr_data.png)\n",
    "\n",
    ">  我们可以暗示广告有 页面上的最低价格将吸引大部分注意力。 页面上的其他广告不会很有吸引力。 计算与这种含义相关的特征非常容易。 我们可以为每个广告的每个用户和网页添加最低和最高价格。 在这种情况下，具有最低价格的广告的位置也可以使用。 \n",
    "\n",
    "![ctr](img/statistic_ctr_data2.png)\n",
    "\n",
    "代码实现\n",
    "![ctr](img/statistic_ctr_data_code.png)\n",
    "\n",
    "- More feature\n",
    " - How many pages user visited\n",
    " - Standard deviation of prices\n",
    " - Most visited page\n",
    " - Many, many more"
   ]
  },
  {
   "cell_type": "markdown",
   "metadata": {},
   "source": [
    "如果没有特征可以像这样使用groupby呢？可以使用最近邻点"
   ]
  },
  {
   "cell_type": "markdown",
   "metadata": {},
   "source": [
    "### Neighbors\n",
    "- Explicit group is not needed\n",
    "- More flexible\n",
    "- Much harder to implement"
   ]
  },
  {
   "cell_type": "markdown",
   "metadata": {},
   "source": [
    "**Examples**\n",
    "- Number of houses in 500m, 1000m,..\n",
    "- Average price per square meter in 500m, 1000m,..\n",
    "- Number of schools/supermarkets/parking lots in 500m, 1000m,..\n",
    "- Distance to colsest subway station"
   ]
  },
  {
   "cell_type": "markdown",
   "metadata": {},
   "source": [
    "讲师在`Springleaf`比赛中使用了它。"
   ]
  },
  {
   "cell_type": "markdown",
   "metadata": {},
   "source": [
    "#### KNN features in springleaf\n",
    "- Mean encode all the variables\n",
    "- For every point, find 2000 nearst neighbors using Bray-Curtis metric\n",
    "$$\\frac{\\sum{|u_i - v_i|}}{\\sum{|u_i + v_i|}}$$\n",
    "- Calculate various features from those 2000 neighbors"
   ]
  },
  {
   "cell_type": "markdown",
   "metadata": {},
   "source": [
    "**Evaluate** \n",
    "- Mean target of neatrest 5,10,15,500,2000, neighbors\n",
    "- Mean distance to 10 closest neighbors\n",
    "- Mean distance to 10 closest neighbors with target 1\n",
    "- Mean distance to 10 closest neighbors with target 0"
   ]
  },
  {
   "cell_type": "markdown",
   "metadata": {},
   "source": [
    "# Matrix factorizations for feature extraction"
   ]
  },
  {
   "cell_type": "markdown",
   "metadata": {},
   "source": [
    "- **Example of feature fusion**\n",
    "![fusion](img/fusion.png)"
   ]
  },
  {
   "cell_type": "markdown",
   "metadata": {},
   "source": [
    "#### Notes about Matrix Fatorization\n",
    "- Can be apply only for some columns\n",
    "- Can provide additional diversity\n",
    " - Good for ensembles\n",
    "- It is **lossy** transformation.Its' efficirncy depends on:\n",
    " - Particular task\n",
    " - Number of latent factors\n",
    "   - Usually 5-100"
   ]
  },
  {
   "cell_type": "markdown",
   "metadata": {},
   "source": [
    "#### Implementtation\n",
    "- Serveral MF methods you can find in sklearn\n",
    "- SVD and PCA\n",
    " - Standart tools for Matrix Fatorization\n",
    "- TruncatedSVD\n",
    " - Works with sparse matrices\n",
    "- Non-negative Matrix Fatorization(NMF)\n",
    " - Ensures that all latent fators are non-negative\n",
    " - Good for counts-like data"
   ]
  },
  {
   "cell_type": "markdown",
   "metadata": {},
   "source": [
    "#### NMF for tree-based methods\n",
    "> `non-negative matrix factorization`简称NMF，它以一种使数据更适合决策树的方式转换数据。\n",
    "![NMF](img/NMF.png)\n",
    " 可以看出，NMF变换数据形成平行于轴的线。"
   ]
  },
  {
   "cell_type": "markdown",
   "metadata": {},
   "source": [
    "#### 因子分解\n",
    "可以使用与线性模型的技巧来分解矩阵。\n",
    "![mf](img/NMF_note.png)"
   ]
  },
  {
   "cell_type": "markdown",
   "metadata": {},
   "source": [
    "### Conclusion\n",
    "- Matrix Factorization is a very general approach for dimensionality reduction and feature extraction\n",
    "- It can be applied for transforming categorical features into real-valued\n",
    "- Many of tricks trick suitable for linear models can be useful for MF"
   ]
  },
  {
   "cell_type": "markdown",
   "metadata": {
    "collapsed": true
   },
   "source": [
    "## Feature interactions\n",
    "特征值的所有组合"
   ]
  },
  {
   "cell_type": "markdown",
   "metadata": {
    "collapsed": true
   },
   "source": [
    "- **Example:banner selection**\n",
    "\n",
    "假设我们正在构建一个预测模型，在网站上显示的最佳广告横幅。\n",
    "\n",
    "|...|category_ad|category_site|...|is_clicked|\n",
    "|:-:|:-:|:-:|:-:|:-:|\n",
    "|...|auto_part|game_news|...|0|\n",
    "|...|music_tickets|music_news|..|1|\n",
    "|...|mobile_phones|auto_blog|...|0|\n",
    "将广告横幅本身的类别和横幅将显示的网站类别，进行组合将构成一个非常强的特征。\n",
    "\n",
    "|...|ad_site|...|is_clicked|\n",
    "|:-:|:-:|:-:|:-:|\n",
    "|...|auto_part &#124; game_news|...|0|\n",
    "|...|music_tickets &#124; music_news|..|1|\n",
    "|...|mobile_phones &#124; auto_blog|...|0|\n",
    "\n",
    "构建这两个特征的组合特征`ad_site`"
   ]
  },
  {
   "cell_type": "markdown",
   "metadata": {
    "collapsed": true
   },
   "source": [
    " 从技术角度来看， 有两种方法可以构建这种交互。"
   ]
  },
  {
   "cell_type": "markdown",
   "metadata": {
    "collapsed": true
   },
   "source": [
    "- **Example of interactions**\n",
    "\n",
    "**方法1**\n",
    "![interaction1](img/interaction1.png)\n",
    "**方法2**\n",
    "![interaction2](img/interaction2.png)\n"
   ]
  },
  {
   "cell_type": "markdown",
   "metadata": {},
   "source": [
    "- **相似的想法也可用于数值变量**\n",
    "![interge_interaction](img/interge_interaction.png)\n",
    "事实上，这不限于乘法操作，还可以是其他的\n",
    "- Multiplication\n",
    "- Sum\n",
    "- Diff\n",
    "- Division\n",
    "- .."
   ]
  },
  {
   "cell_type": "markdown",
   "metadata": {},
   "source": [
    "### **Practival Notes**\n",
    "\n",
    "- We have a lot of possible interactions -N*N for N features.\n",
    " - a. Even more if use several types in interactions\n",
    "- Need ti reduce it's number\n",
    " - a. Dimensionality reduction\n",
    " - b. Feature selection"
   ]
  },
  {
   "cell_type": "markdown",
   "metadata": {},
   "source": [
    "通过这种方法生成了大量的特征，可以使用特征选择或降维的方法减少特征。以下用特征选择举例说明\n",
    "![sele](img/sele.png)"
   ]
  },
  {
   "cell_type": "markdown",
   "metadata": {},
   "source": [
    "### Interactions' order\n",
    "- We looked at 2nd order interactions.\n",
    "- Such approach can be generalized for higher orders.\n",
    "- It is hard to do generation and selection automatically.\n",
    "- Manual building of high-order interactions is some kind of art."
   ]
  },
  {
   "cell_type": "markdown",
   "metadata": {},
   "source": [
    "### Extract features from DT\n",
    "![tree_interaction](img/tree_interaction.png)\n",
    "> 看一下决策树。 让我们将每个叶子映射成二进制特征。 对象叶子的索引可以用作新分类特征的值。 如果我们不使用单个树而是使用它们的整体。 例如，随机森林， 那么这种操作可以应用于每个条目。 这是一种提取高阶交互的强大方法。 "
   ]
  },
  {
   "cell_type": "markdown",
   "metadata": {},
   "source": [
    "- **How to use it**\n",
    "\n",
    "In sklearn:\n",
    "``` Python\n",
    "tree_model.apply()\n",
    "```\n",
    "In xgboost:\n",
    "``` Python\n",
    "booster.predict(pred_leaf=True)\n",
    "```"
   ]
  },
  {
   "cell_type": "markdown",
   "metadata": {},
   "source": [
    "### Conclusion\n",
    "- We looked at ways to build an interaction of categorical attributes\n",
    "- Extended this approach to real-valued features\n",
    "- Learn how to extract features via decision trees"
   ]
  },
  {
   "cell_type": "markdown",
   "metadata": {},
   "source": [
    "## t-SNE\n",
    "用于探索数据分析。可以被视为从数据中获取特征的方法。"
   ]
  },
  {
   "cell_type": "markdown",
   "metadata": {},
   "source": [
    "### Practical Notes\n",
    "- Result heavily depends on hyperparameters(perplexity)\n",
    " - Good practice is to use several projections with different perplexities(5-100)\n",
    "- Due to stochastic nature, tSNE provides different projections even for the same data\\hyperparams\n",
    " - Train and test should be projected together\n",
    "- tSNE runs for a long time with a big number of features\n",
    " - it is common to do dimensionality reduction before projection.\n",
    "- Implementation of tSNE can be found in sklearn library.\n",
    "- But personally I perfer you use stand-alone implementation python package tsne due to its' faster speed."
   ]
  },
  {
   "cell_type": "markdown",
   "metadata": {},
   "source": [
    "### Conclusion\n",
    "- tSNE is a great tool for visualization\n",
    "- It can be used as feature as well\n",
    "- Be careful with interpretation of results\n",
    "- Try different perplexities"
   ]
  },
  {
   "cell_type": "markdown",
   "metadata": {},
   "source": [
    "#### 矩阵分解：\n",
    "- [矩阵分解方法概述（sklearn）](http://scikit-learn.org/stable/modules/decomposition.html)\n",
    "#### T-SNOW：\n",
    "- [多核t-SNE实现](https://github.com/DmitryUlyanov/Multicore-TSNE)\n",
    "- [流形学习方法的比较（sklearn)](http://scikit-learn.org/stable/auto_examples/manifold/plot_compare_methods.html)\n",
    "- [如何有效使用t-SNE（distill.pub博客）](https://distill.pub/2016/misread-tsne/)\n",
    "- [tSNE主页（Laurens van der Maaten）](https://lvdmaaten.github.io/tsne/)\n",
    "- [示例：具有不同困惑的tSNE（sklearn）](http://scikit-learn.org/stable/auto_examples/manifold/plot_t_sne_perplexity.html#sphx-glr-auto-examples-manifold-plot-t-sne-perplexity-py)\n",
    "#### 互动：\n",
    "- [Facebook Research的论文关于从树中提取分类特征](https://research.fb.com/publications/practical-lessons-from-predicting-clicks-on-ads-at-facebook/)\n",
    "- [示例：使用树集合进行要素转换（sklearn）](http://scikit-learn.org/stable/auto_examples/ensemble/plot_feature_transformation.html)"
   ]
  },
  {
   "cell_type": "code",
   "execution_count": null,
   "metadata": {
    "collapsed": true
   },
   "outputs": [],
   "source": []
  }
 ],
 "metadata": {
  "kernelspec": {
   "display_name": "Python 3",
   "language": "python",
   "name": "python3"
  },
  "language_info": {
   "codemirror_mode": {
    "name": "ipython",
    "version": 3
   },
   "file_extension": ".py",
   "mimetype": "text/x-python",
   "name": "python",
   "nbconvert_exporter": "python",
   "pygments_lexer": "ipython3",
   "version": "3.5.4"
  }
 },
 "nbformat": 4,
 "nbformat_minor": 2
}
