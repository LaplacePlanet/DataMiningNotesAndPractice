{
 "cells": [
  {
   "cell_type": "markdown",
   "metadata": {},
   "source": [
    "## 数据清洗\n",
    "数据清洗主要是删除原始数据中的无关数据、重复数据，平滑数据噪声，筛选掉于挖掘主题无关的数据，处理缺失值、异常值等。"
   ]
  },
  {
   "cell_type": "markdown",
   "metadata": {},
   "source": [
    "### 缺失值处理\n",
    "处理缺失值方法可分为3类：删除记录、数据插补和不处理。"
   ]
  },
  {
   "cell_type": "markdown",
   "metadata": {},
   "source": [
    "**常用的插补方法**\n",
    "\n",
    "|插补方法|方法描述|\n",
    "|:-:|:-:|\n",
    "|均值/中位数/众数插补|根据属性的类型，用该属性取值的平均数/中位数/众数进行插补|\n",
    "|使用固定值|将缺失的属性值用一个常量替换。如广州一个工厂普通外来务工人员的“基本工资”属性的缺失值，可以用当年广州市普通外来务工人员工资标准1895元/月填补。|\n",
    "|最近临填补|在记录中找到与缺失样本最近的样本的该属性值插补|\n",
    "|回归方法|对带有缺失值的变量，根据已有数据和其有关的其他变量（因变量）的数据建立拟合模型来预测缺失的属性值|\n",
    "|插值法|插值法是利用已知点建立合适的插值函数$\\it f(x)$，未知值由对应点$x_i$求出的函数值 $f(x_i)$近似代替|"
   ]
  },
  {
   "cell_type": "markdown",
   "metadata": {},
   "source": [
    "常用的插值方法有：拉格朗日插值法、牛顿插值法、Hermite插值、分段插值、样条插值法等。这里重点介绍前两种。"
   ]
  },
  {
   "cell_type": "markdown",
   "metadata": {},
   "source": [
    "- **1.拉格朗日插值法**<br>\n",
    "根据数学知识可知，对于平面上已知的n个点（无两点在一条直线上）可以找到一个n-1次多项式$y = a_0 + a_1x + a_2x^2+ \\dots +a_{n-1}x^{n-1}$，使此多项式曲线过这n个点。<br>\n",
    "**# 求已知的过n个点的n-1次多项式：**$$y = a_0 + a_1x + a_2x^2+ \\dots +a_{n-1}x^{n-1}$$\n",
    "将n个点的坐标$(x_1, y_1),(x_2,y_2) \\dots (x_n, y_n)$带入多项式函数，得\n",
    "$$y_1 = a_0 + a_1x + a_2x^2+ \\dots +a_{n-1}x^{n-1} \\\\ \n",
    "y_2 = a_0 + a_1x + a_2x^2+ \\dots +a_{n-1}x^{n-1} \\\\\n",
    "\\cdots \\cdots \\\\\n",
    "y_n = a_0 + a_1x + a_2x^2+ \\dots +a_{n-1}x^{n-1}$$\n",
    "解出拉格朗日插值多项式为：$$L(x)=\\sum^n_{i = 0}y_i \\prod^n_{j = 0,j\\not= i}\\frac{x - x_j}{x_i - x_j}$$\n",
    "<br>**# 将缺失的函数值对应的点x代入插值多项式得到缺失值的近似值$L(x)$**"
   ]
  },
  {
   "cell_type": "markdown",
   "metadata": {},
   "source": [
    "- **2.牛顿插值法**<br>\n",
    "拉格朗日插值多项式的优点是格式整齐规范，但其缺点是：当需要增加节点时，其基函数都要发生变化，需要重新计算，这在实际计算中会影响效率。而牛顿插值法可以弥补这一不足。[这里查看更多关于差商公式的介绍](https://wenku.baidu.com/view/57af0aa0b0717fd5360cdc57.html)<br>\n",
    "**# 求已知的n个点对$(x_1,y_1),(x_2, y_2) \\dots (x_n, y_n)$的所有阶差商公式**\n",
    "$$f[x_1, x] = \\frac{f[x]-f[x_1]}{x - x_1} = \\frac{f(x) - f(x_1)}{x - x_1} \\\\\n",
    "f[x_2,x_1,x] = \\frac{f[x_1,x] - f[x_2,x_1]}{x - x_2} \\\\\n",
    "f[x_3,x_2,x_1,x] = \\frac {f[x_2,x_1,x] - f[x_3,x_2,x_1]}{x - x_3} \\\\\n",
    "\\cdots\\cdots \\\\\n",
    "f[x_n, x_{n-1}, \\dots, x_1, x] = \\frac{f[x_{n-1}, \\dots, x_1, x] - f[x_n, x_{n-1}, \\dots, x_1]}{x - x_n}$$\n",
    "**# 联立以上差商公式建立如下插值多项式$f(x)$**\n",
    "$$f(x) = f(x_1) + (x-x_1)f[x_2,x_1] + (x-x_1)(x-x_2)f[x_3,x_2,x_1] + \\\\\n",
    "(x-x_1)(x-x_2)(x-x_3)f[x_4,x_3,x_2,x_1] + \\dots + \\\\\n",
    "(x-x_1)(x-x_2)\\dots (x-x_{n-1})f[x_n, x_{n-1}, \\dots, x_2, x_1] + \\\\\n",
    "(x-x_1)(x-x_2)\\dots (x-x_n)f[x_n, x_{n-1}, \\dots ,x_1, x] \\\\\n",
    "= P(x) + R(x)$$\n",
    "其中\n",
    "$$\\begin{align}P(x) = f(x_1) + (x-x_1)f[x_2,x_1] + (x-x_1)(x-x_2)f[x_3,x_2,x_1] + \\\\\n",
    "(x-x_1)(x-x_2)(x-x_3)f[x_4,x_3,x_2,x_1] + \\dots + \\\\\n",
    "(x-x_1)(x-x_2)\\dots (x-x_{n-1})f[x_n, x_{n-1}, \\dots, x_2, x_1] \\\\\n",
    "R(x) = (x-x_1)(x-x_2)\\dots(x-x_n)f[x_n, x_{n-1}, \\dots,x_1, x] \\end{align}$$\n",
    "$P(x)$是牛顿插值逼近函数，$R(x)$是误差函数。\n",
    "<br>**# 将缺失的函数对应的点x代入插值多项式得到缺失值的近似值$f(x)$。**"
   ]
  },
  {
   "cell_type": "code",
   "execution_count": 1,
   "metadata": {},
   "outputs": [
    {
     "name": "stderr",
     "output_type": "stream",
     "text": [
      "/home/heolis/anaconda3/envs/tensorflow/lib/python3.5/site-packages/ipykernel_launcher.py:9: SettingWithCopyWarning: \n",
      "A value is trying to be set on a copy of a slice from a DataFrame\n",
      "\n",
      "See the caveats in the documentation: http://pandas.pydata.org/pandas-docs/stable/indexing.html#indexing-view-versus-copy\n",
      "  if __name__ == '__main__':\n",
      "/home/heolis/anaconda3/envs/tensorflow/lib/python3.5/site-packages/pandas/core/series.py:696: FutureWarning: \n",
      "Passing list-likes to .loc or [] with any missing label will raise\n",
      "KeyError in the future, you can use .reindex() as an alternative.\n",
      "\n",
      "See the documentation here:\n",
      "http://pandas.pydata.org/pandas-docs/stable/indexing.html#deprecate-loc-reindex-listlike\n",
      "  return self.loc[key]\n",
      "/home/heolis/anaconda3/envs/tensorflow/lib/python3.5/site-packages/ipykernel_launcher.py:22: SettingWithCopyWarning: \n",
      "A value is trying to be set on a copy of a slice from a DataFrame\n",
      "\n",
      "See the caveats in the documentation: http://pandas.pydata.org/pandas-docs/stable/indexing.html#indexing-view-versus-copy\n"
     ]
    }
   ],
   "source": [
    "#拉格朗日插值代码\n",
    "import pandas as pd #导入数据分析库Pandas\n",
    "from scipy.interpolate import lagrange #导入拉格朗日插值函数\n",
    "\n",
    "inputfile = 'data/catering_sale.xls' #销量数据路径\n",
    "outputfile = 'tmp/sales.xls' #输出数据路径\n",
    "\n",
    "data = pd.read_excel(inputfile) #读入数据\n",
    "data[u'销量'][(data[u'销量'] < 400) | (data[u'销量'] > 5000)] = None #过滤异常值，将其变为空值\n",
    "\n",
    "#自定义列向量插值函数\n",
    "#s为列向量，n为被插值的位置，k为取前后的数据个数，默认为5\n",
    "def ployinterp_column(s, n, k=5):\n",
    "  y = s[list(range(n-k, n)) + list(range(n+1, n+1+k))] #取数\n",
    "  y = y[y.notnull()] #剔除空值\n",
    "  return lagrange(y.index, list(y))(n) #插值并返回插值结果\n",
    "\n",
    "#逐个元素判断是否需要插值\n",
    "for i in data.columns:\n",
    "  for j in range(len(data)):\n",
    "    if (data[i].isnull())[j]: #如果为空即插值。\n",
    "      data[i][j] = ployinterp_column(data[i], j)\n",
    "\n",
    "data.to_excel(outputfile) #输出结果，写入文件"
   ]
  },
  {
   "cell_type": "markdown",
   "metadata": {},
   "source": [
    "在进行插值之前，一般先对异常值进行处理。如将异常值定义为空值，进行插值。"
   ]
  },
  {
   "cell_type": "markdown",
   "metadata": {},
   "source": [
    "### 异常值处理\n",
    "异常值如何处理，需视情况而定。<br>\n",
    "**异常值处理常用方法**<br>\n",
    "\n",
    "|异常值处理方法|方法描述|\n",
    "|:-:|:-:|\n",
    "|删除含有异常值的记录|直接将含有异常值的记录删除|\n",
    "|视为缺失值|将异常值视为缺失值，利用缺失值处理的方法进行处理|\n",
    "|平均值修复|可用前后两个观测值的平均值修正该异常值|\n",
    "|不处理|直接在具有异常值的数据集上进行挖掘建模|\n",
    "\n",
    "在很多情况下，要先分析异常值出现的可能原因，再判断异常值是否应该舍弃，如果是正确的数据，可以直接在具有异常值的数据集上进行挖掘建模。"
   ]
  },
  {
   "cell_type": "markdown",
   "metadata": {},
   "source": [
    "## 数据集成\n",
    "数据集成是将多个数据源合并存放在一个一致的数据存储中的过程。\n",
    "### 实体识别\n",
    "实体识别的任务是统一不同源数据的矛盾。\n",
    "- **1.同名异义**<br>\n",
    "数据源A中的属性ID和数据源B中的属性ID分别描述的是菜品编号和订单编号，即描述的是不同的实体。\n",
    "- **2.异名同义**<br>\n",
    "数据源A中的sales_dt 和数据源B中的sales_date 都是描述销售日期的。\n",
    "- **3.单位不统一**br<>\n",
    "描述同一个实体分别用的是国际单位和中国传统的计量单位。"
   ]
  },
  {
   "cell_type": "markdown",
   "metadata": {},
   "source": [
    "### 冗余属性识别\n",
    "数据集成往往导致数据冗余，例如：\n",
    "- 1.同一属性多次出现\n",
    "- 2.同一属性命名不一致导致重复。\n",
    "\n",
    "对于冗余属性要先分析，检测到后再将其删除。\n",
    "\n",
    "有些冗余属性可以用相关性分析检测。给定两个数值型的属性A和B，根据其属性值 ，用相关系数度量一个属性在多大程度上蕴含另一个属性。"
   ]
  },
  {
   "cell_type": "markdown",
   "metadata": {},
   "source": [
    "## 数据变换\n",
    "数据变换主要是对数据进行规范化处理，将数据转换成“适当的”形式，以适用于挖掘任务及算法的需要。"
   ]
  },
  {
   "cell_type": "markdown",
   "metadata": {},
   "source": [
    "### 简单函数变换\n",
    "简单的函数变换常用来将不具有正态分布的数据变换成具有正态分布的数据。在时间序列分析中，有时简单的对数变换或者差分运算就可以将非平稳序列转换成平稳序列。常用简单函数变换：\n",
    "$$x'=x^2 \\\\ x'=\\sqrt x \\\\ x'=log(x) \\\\ \\nabla f(x_k) = f(x_{k+1}) - f(x_k)$$\n"
   ]
  },
  {
   "cell_type": "markdown",
   "metadata": {},
   "source": [
    "### 规范化（归一化）\n",
    "为了消除指标之间的量纲和取值范围差异的影响，需要进行标准化处理，将数据按照比例进行缩放，使之落入一个特定的区域，便于进行综合分析。<br>**数据规范化对于基于距离的挖掘算法尤为重要**"
   ]
  },
  {
   "cell_type": "markdown",
   "metadata": {},
   "source": [
    "- **1.最小-最大规范化**<br>\n",
    "最小-最大规范化也称为离差标准化，是对原始数据的线性变换，将数据值映射到$[0, 1]$之间。\n",
    "$$x^*=\\frac{x - min}{max-min}$$\n",
    "这是最简单的方法，缺点是：若数据集中且某个数值很大，则规范化后各值会接近于0，并且将会相差不打；若将来有新的数据加入，并且不在区间$[min, max]$内，则需要重新选取最大和最小值，重新进行计算。"
   ]
  },
  {
   "cell_type": "markdown",
   "metadata": {},
   "source": [
    "- **2.零-均值规范化**<br>\n",
    "零-均值规范化也称为标准差标准化，经过处理的数据的均值为0，标准差为1。公式为：$$x^*=\\frac{x - \\bar x}{\\sigma}$$\n",
    "其中$\\bar x$为原始数据的均值，$\\sigma$为原始数据的标准差，是当前用得最多的数据标准化方法。"
   ]
  },
  {
   "cell_type": "markdown",
   "metadata": {},
   "source": [
    "- **3.小数标定规范化**<br>\n",
    "通过移动属性值的小数位数，将属性值映射到$[-1, 1]$之间，移动的小数位数取决于属性值绝对值的最大值。公式为：$$x^*=\\frac{x}{10^k}$$"
   ]
  },
  {
   "cell_type": "code",
   "execution_count": 5,
   "metadata": {},
   "outputs": [
    {
     "data": {
      "text/html": [
       "<div>\n",
       "<style scoped>\n",
       "    .dataframe tbody tr th:only-of-type {\n",
       "        vertical-align: middle;\n",
       "    }\n",
       "\n",
       "    .dataframe tbody tr th {\n",
       "        vertical-align: top;\n",
       "    }\n",
       "\n",
       "    .dataframe thead th {\n",
       "        text-align: right;\n",
       "    }\n",
       "</style>\n",
       "<table border=\"1\" class=\"dataframe\">\n",
       "  <thead>\n",
       "    <tr style=\"text-align: right;\">\n",
       "      <th></th>\n",
       "      <th>0</th>\n",
       "      <th>1</th>\n",
       "      <th>2</th>\n",
       "      <th>3</th>\n",
       "    </tr>\n",
       "  </thead>\n",
       "  <tbody>\n",
       "    <tr>\n",
       "      <th>0</th>\n",
       "      <td>0.074380</td>\n",
       "      <td>0.937291</td>\n",
       "      <td>0.923520</td>\n",
       "      <td>1.000000</td>\n",
       "    </tr>\n",
       "    <tr>\n",
       "      <th>1</th>\n",
       "      <td>0.619835</td>\n",
       "      <td>0.000000</td>\n",
       "      <td>0.000000</td>\n",
       "      <td>0.850941</td>\n",
       "    </tr>\n",
       "    <tr>\n",
       "      <th>2</th>\n",
       "      <td>0.214876</td>\n",
       "      <td>0.119565</td>\n",
       "      <td>0.813322</td>\n",
       "      <td>0.000000</td>\n",
       "    </tr>\n",
       "    <tr>\n",
       "      <th>3</th>\n",
       "      <td>0.000000</td>\n",
       "      <td>1.000000</td>\n",
       "      <td>1.000000</td>\n",
       "      <td>0.563676</td>\n",
       "    </tr>\n",
       "    <tr>\n",
       "      <th>4</th>\n",
       "      <td>1.000000</td>\n",
       "      <td>0.942308</td>\n",
       "      <td>0.996711</td>\n",
       "      <td>0.804149</td>\n",
       "    </tr>\n",
       "    <tr>\n",
       "      <th>5</th>\n",
       "      <td>0.264463</td>\n",
       "      <td>0.838629</td>\n",
       "      <td>0.814967</td>\n",
       "      <td>0.909310</td>\n",
       "    </tr>\n",
       "    <tr>\n",
       "      <th>6</th>\n",
       "      <td>0.636364</td>\n",
       "      <td>0.846990</td>\n",
       "      <td>0.786184</td>\n",
       "      <td>0.929571</td>\n",
       "    </tr>\n",
       "  </tbody>\n",
       "</table>\n",
       "</div>"
      ],
      "text/plain": [
       "          0         1         2         3\n",
       "0  0.074380  0.937291  0.923520  1.000000\n",
       "1  0.619835  0.000000  0.000000  0.850941\n",
       "2  0.214876  0.119565  0.813322  0.000000\n",
       "3  0.000000  1.000000  1.000000  0.563676\n",
       "4  1.000000  0.942308  0.996711  0.804149\n",
       "5  0.264463  0.838629  0.814967  0.909310\n",
       "6  0.636364  0.846990  0.786184  0.929571"
      ]
     },
     "execution_count": 5,
     "metadata": {},
     "output_type": "execute_result"
    }
   ],
   "source": [
    "#数据规范化\n",
    "import pandas as pd\n",
    "import numpy as np\n",
    "\n",
    "datafile = 'data/normalization_data.xls' #参数初始化\n",
    "data = pd.read_excel(datafile, header = None) #读取数据\n",
    "\n",
    "(data - data.min())/(data.max() - data.min()) #最小-最大规范化"
   ]
  },
  {
   "cell_type": "code",
   "execution_count": 6,
   "metadata": {},
   "outputs": [
    {
     "data": {
      "text/html": [
       "<div>\n",
       "<style scoped>\n",
       "    .dataframe tbody tr th:only-of-type {\n",
       "        vertical-align: middle;\n",
       "    }\n",
       "\n",
       "    .dataframe tbody tr th {\n",
       "        vertical-align: top;\n",
       "    }\n",
       "\n",
       "    .dataframe thead th {\n",
       "        text-align: right;\n",
       "    }\n",
       "</style>\n",
       "<table border=\"1\" class=\"dataframe\">\n",
       "  <thead>\n",
       "    <tr style=\"text-align: right;\">\n",
       "      <th></th>\n",
       "      <th>0</th>\n",
       "      <th>1</th>\n",
       "      <th>2</th>\n",
       "      <th>3</th>\n",
       "    </tr>\n",
       "  </thead>\n",
       "  <tbody>\n",
       "    <tr>\n",
       "      <th>0</th>\n",
       "      <td>-0.905383</td>\n",
       "      <td>0.635863</td>\n",
       "      <td>0.464531</td>\n",
       "      <td>0.798149</td>\n",
       "    </tr>\n",
       "    <tr>\n",
       "      <th>1</th>\n",
       "      <td>0.604678</td>\n",
       "      <td>-1.587675</td>\n",
       "      <td>-2.193167</td>\n",
       "      <td>0.369390</td>\n",
       "    </tr>\n",
       "    <tr>\n",
       "      <th>2</th>\n",
       "      <td>-0.516428</td>\n",
       "      <td>-1.304030</td>\n",
       "      <td>0.147406</td>\n",
       "      <td>-2.078279</td>\n",
       "    </tr>\n",
       "    <tr>\n",
       "      <th>3</th>\n",
       "      <td>-1.111301</td>\n",
       "      <td>0.784628</td>\n",
       "      <td>0.684625</td>\n",
       "      <td>-0.456906</td>\n",
       "    </tr>\n",
       "    <tr>\n",
       "      <th>4</th>\n",
       "      <td>1.657146</td>\n",
       "      <td>0.647765</td>\n",
       "      <td>0.675159</td>\n",
       "      <td>0.234796</td>\n",
       "    </tr>\n",
       "    <tr>\n",
       "      <th>5</th>\n",
       "      <td>-0.379150</td>\n",
       "      <td>0.401807</td>\n",
       "      <td>0.152139</td>\n",
       "      <td>0.537286</td>\n",
       "    </tr>\n",
       "    <tr>\n",
       "      <th>6</th>\n",
       "      <td>0.650438</td>\n",
       "      <td>0.421642</td>\n",
       "      <td>0.069308</td>\n",
       "      <td>0.595564</td>\n",
       "    </tr>\n",
       "  </tbody>\n",
       "</table>\n",
       "</div>"
      ],
      "text/plain": [
       "          0         1         2         3\n",
       "0 -0.905383  0.635863  0.464531  0.798149\n",
       "1  0.604678 -1.587675 -2.193167  0.369390\n",
       "2 -0.516428 -1.304030  0.147406 -2.078279\n",
       "3 -1.111301  0.784628  0.684625 -0.456906\n",
       "4  1.657146  0.647765  0.675159  0.234796\n",
       "5 -0.379150  0.401807  0.152139  0.537286\n",
       "6  0.650438  0.421642  0.069308  0.595564"
      ]
     },
     "execution_count": 6,
     "metadata": {},
     "output_type": "execute_result"
    }
   ],
   "source": [
    "(data - data.mean())/data.std() #零-均值规范化"
   ]
  },
  {
   "cell_type": "code",
   "execution_count": 7,
   "metadata": {},
   "outputs": [
    {
     "data": {
      "text/html": [
       "<div>\n",
       "<style scoped>\n",
       "    .dataframe tbody tr th:only-of-type {\n",
       "        vertical-align: middle;\n",
       "    }\n",
       "\n",
       "    .dataframe tbody tr th {\n",
       "        vertical-align: top;\n",
       "    }\n",
       "\n",
       "    .dataframe thead th {\n",
       "        text-align: right;\n",
       "    }\n",
       "</style>\n",
       "<table border=\"1\" class=\"dataframe\">\n",
       "  <thead>\n",
       "    <tr style=\"text-align: right;\">\n",
       "      <th></th>\n",
       "      <th>0</th>\n",
       "      <th>1</th>\n",
       "      <th>2</th>\n",
       "      <th>3</th>\n",
       "    </tr>\n",
       "  </thead>\n",
       "  <tbody>\n",
       "    <tr>\n",
       "      <th>0</th>\n",
       "      <td>0.078</td>\n",
       "      <td>0.521</td>\n",
       "      <td>0.602</td>\n",
       "      <td>0.2863</td>\n",
       "    </tr>\n",
       "    <tr>\n",
       "      <th>1</th>\n",
       "      <td>0.144</td>\n",
       "      <td>-0.600</td>\n",
       "      <td>-0.521</td>\n",
       "      <td>0.2245</td>\n",
       "    </tr>\n",
       "    <tr>\n",
       "      <th>2</th>\n",
       "      <td>0.095</td>\n",
       "      <td>-0.457</td>\n",
       "      <td>0.468</td>\n",
       "      <td>-0.1283</td>\n",
       "    </tr>\n",
       "    <tr>\n",
       "      <th>3</th>\n",
       "      <td>0.069</td>\n",
       "      <td>0.596</td>\n",
       "      <td>0.695</td>\n",
       "      <td>0.1054</td>\n",
       "    </tr>\n",
       "    <tr>\n",
       "      <th>4</th>\n",
       "      <td>0.190</td>\n",
       "      <td>0.527</td>\n",
       "      <td>0.691</td>\n",
       "      <td>0.2051</td>\n",
       "    </tr>\n",
       "    <tr>\n",
       "      <th>5</th>\n",
       "      <td>0.101</td>\n",
       "      <td>0.403</td>\n",
       "      <td>0.470</td>\n",
       "      <td>0.2487</td>\n",
       "    </tr>\n",
       "    <tr>\n",
       "      <th>6</th>\n",
       "      <td>0.146</td>\n",
       "      <td>0.413</td>\n",
       "      <td>0.435</td>\n",
       "      <td>0.2571</td>\n",
       "    </tr>\n",
       "  </tbody>\n",
       "</table>\n",
       "</div>"
      ],
      "text/plain": [
       "       0      1      2       3\n",
       "0  0.078  0.521  0.602  0.2863\n",
       "1  0.144 -0.600 -0.521  0.2245\n",
       "2  0.095 -0.457  0.468 -0.1283\n",
       "3  0.069  0.596  0.695  0.1054\n",
       "4  0.190  0.527  0.691  0.2051\n",
       "5  0.101  0.403  0.470  0.2487\n",
       "6  0.146  0.413  0.435  0.2571"
      ]
     },
     "execution_count": 7,
     "metadata": {},
     "output_type": "execute_result"
    }
   ],
   "source": [
    "data/10**np.ceil(np.log10(data.abs().max())) #小数定标规范化"
   ]
  },
  {
   "cell_type": "markdown",
   "metadata": {},
   "source": [
    "### 连续属性离散化\n",
    "一些数据挖掘算法，特别是某些分类算法（如ID3算法，Apriori 算法等），要求数据是分类属性形式。这样，常常需要将连续属性变换成分类属性，即连续属性离散化。"
   ]
  },
  {
   "cell_type": "markdown",
   "metadata": {},
   "source": [
    "**1.离散化的过程**<br>\n",
    "连续属性离散化是将取值范围划分为一些离散话的区间，最后用不同的符号或整数值，代表落在每个子区间中的数据值。所以离散化涉及两个子任务：**确定分类数以及如何将连续属性值映射到这些分类值。**"
   ]
  },
  {
   "cell_type": "markdown",
   "metadata": {},
   "source": [
    "**2.常用的离散化方法**<br>\n",
    "- 等宽法<br>\n",
    "将属性的值域分成具有相同宽度的区间，区间的个数由数据本身的特点决定，或者由用户指定。**缺点**在于它对离群点比较敏感，倾向于不均匀地把属性值分布到各个区间。而等频法正能避免这个问题。\n",
    "- 等频法<br>\n",
    "将相同数量的记录放进每个区间。**缺点**是可能将相同数据值分到不同的区间以满足每个区间中固定的数据个数。\n",
    "- 基于聚类分析的方法（一维）<br>\n",
    "首先将连续属性的值用聚类算法（如K-Mean 算法）进行聚类，然后再将聚类得到的簇进行处理，合并到一个簇的连续属性值并做同一标记。聚类算法需要用户指定簇的个数，从而决定产生的区间。"
   ]
  },
  {
   "cell_type": "code",
   "execution_count": 10,
   "metadata": {},
   "outputs": [
    {
     "name": "stderr",
     "output_type": "stream",
     "text": [
      "/home/heolis/anaconda3/envs/tensorflow/lib/python3.5/site-packages/ipykernel_launcher.py:16: FutureWarning: reshape is deprecated and will raise in a subsequent release. Please use .values.reshape(...) instead\n",
      "  app.launch_new_instance()\n",
      "/home/heolis/anaconda3/envs/tensorflow/lib/python3.5/site-packages/ipykernel_launcher.py:18: FutureWarning: pd.rolling_mean is deprecated for DataFrame and will be removed in a future version, replace with \n",
      "\tDataFrame.rolling(center=False,window=2).mean()\n",
      "/home/heolis/anaconda3/envs/tensorflow/lib/python3.5/site-packages/matplotlib/font_manager.py:1328: UserWarning: findfont: Font family ['sans-serif'] not found. Falling back to DejaVu Sans\n",
      "  (prop.get_family(), self.defaultFamily[fontext]))\n"
     ]
    },
    {
     "data": {
      "image/png": "[encoded data removed]",
      "text/plain": [
       "<Figure size 576x216 with 1 Axes>"
      ]
     },
     "metadata": {},
     "output_type": "display_data"
    },
    {
     "data": {
      "image/png": "[encoded data removed]",
      "text/plain": [
       "<Figure size 576x216 with 1 Axes>"
      ]
     },
     "metadata": {},
     "output_type": "display_data"
    },
    {
     "data": {
      "image/png": "[encoded data removed]",
      "text/plain": [
       "<Figure size 576x216 with 1 Axes>"
      ]
     },
     "metadata": {},
     "output_type": "display_data"
    }
   ],
   "source": [
    "datafile = 'data/discretization_data.xls' #参数初始化\n",
    "data = pd.read_excel(datafile) #读取数据\n",
    "data = data[u'肝气郁结证型系数'].copy()\n",
    "k = 4\n",
    "\n",
    "d1 = pd.cut(data, k, labels = range(k)) #等宽离散化，各个类比依次命名为0,1,2,3\n",
    "\n",
    "#等频率离散化\n",
    "w = [1.0*i/k for i in range(k+1)]\n",
    "w = data.describe(percentiles = w)[4:4+k+1] #使用describe函数自动计算分位数\n",
    "w[0] = w[0]*(1-1e-10)\n",
    "d2 = pd.cut(data, w, labels = range(k))\n",
    "\n",
    "from sklearn.cluster import KMeans #引入KMeans\n",
    "kmodel = KMeans(n_clusters = k, n_jobs = 4) #建立模型，n_jobs是并行数，一般等于CPU数较好\n",
    "kmodel.fit(data.reshape((len(data), 1))) #训练模型\n",
    "c = pd.DataFrame(kmodel.cluster_centers_).sort_values(0) #输出聚类中心，并且排序（默认是随机序的）\n",
    "w = pd.rolling_mean(c, 2).iloc[1:] #相邻两项求中点，作为边界点\n",
    "w = [0] + list(w[0]) + [data.max()] #把首末边界点加上\n",
    "d3 = pd.cut(data, w, labels = range(k))\n",
    "\n",
    "def cluster_plot(d, k): #自定义作图函数来显示聚类结果\n",
    "  import matplotlib.pyplot as plt\n",
    "  \n",
    "  plt.figure(figsize = (8, 3))\n",
    "  for j in range(0, k):\n",
    "    plt.plot(data[d==j], [j for i in d[d==j]], 'o')\n",
    "  \n",
    "  plt.ylim(-0.5, k-0.5)\n",
    "  return plt\n",
    "\n",
    "cluster_plot(d1, k).show()\n",
    "cluster_plot(d2, k).show()\n",
    "cluster_plot(d3, k).show()"
   ]
  },
  {
   "cell_type": "markdown",
   "metadata": {},
   "source": [
    "### 属性构造\n",
    "利用已有的属性集构造出新的属性，并加入到现有的属性集合中。这属于特征工程的内容，以后会单独介绍。"
   ]
  },
  {
   "cell_type": "markdown",
   "metadata": {},
   "source": [
    "### 小波变换\n",
    "小波变换是一种新型的数据分析工具，它能够刻画某个问题的特征量往往是隐含在一个信号中的某个或某些分量中，小波变换可以把非平稳信号分解为表达不同层次、不同频率信息的数据序列，即小波系数。选取适当的小波系数，即完成了信号的特征提取。小波变换内容比较多，这里暂时只做分类，以后再详细介绍。\n",
    "- **1.基于小波变换的特征提取方法**\n",
    " - 基于小波变换的多尺度空间能量分布特征提取方法\n",
    " - 基于小波变换的多尺度空间的模极大值特征提取方法\n",
    " - 基于小波包变换的特征提取方法\n",
    " - 基于自适应小波神经网络的特征提取方法\n",
    "- **2.小波基函数**\n",
    "- **3.小波变换**\n",
    "\n",
    "\n",
    "在Python中，有一个较为完善的信号处理库可以利用。`PyWavelets`"
   ]
  },
  {
   "cell_type": "code",
   "execution_count": null,
   "metadata": {
    "collapsed": true
   },
   "outputs": [],
   "source": []
  },
  {
   "cell_type": "code",
   "execution_count": null,
   "metadata": {
    "collapsed": true
   },
   "outputs": [],
   "source": []
  }
 ],
 "metadata": {
  "kernelspec": {
   "display_name": "Python 3",
   "language": "python",
   "name": "python3"
  },
  "language_info": {
   "codemirror_mode": {
    "name": "ipython",
    "version": 3
   },
   "file_extension": ".py",
   "mimetype": "text/x-python",
   "name": "python",
   "nbconvert_exporter": "python",
   "pygments_lexer": "ipython3",
   "version": "3.5.4"
  }
 },
 "nbformat": 4,
 "nbformat_minor": 2
}
